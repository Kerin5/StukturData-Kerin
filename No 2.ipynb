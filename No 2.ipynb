{
 "cells": [
  {
   "cell_type": "code",
   "execution_count": null,
   "id": "27f4c948",
   "metadata": {},
   "outputs": [],
   "source": [
    "def hitung_gaji_pokok(golongan):\n",
    "    if golongan == 'A':\n",
    "        return 15000000\n",
    "    elif golongan == 'B':\n",
    "        return 10000000\n",
    "    elif golongan == 'C':\n",
    "        return 8000000\n",
    "    elif golongan == 'D':\n",
    "        return 5000000\n",
    "    else:\n",
    "        return 0\n",
    "\n",
    "def hitung_gaji_total(golongan, jam_kerja):\n",
    "    gaji_pokok = hitung_gaji_pokok(golongan)\n",
    "    if jam_kerja > 48:\n",
    "        gaji_lembur = (jam_kerja - 40) * (gaji_pokok / 40) * 1.5\n",
    "        gaji_total = gaji_pokok + gaji_lembur\n",
    "    else:\n",
    "        gaji_total = gaji_pokok\n",
    "    return gaji_total\n",
    "\n",
    "while True:\n",
    "    golongan = input(\"Masukkan Golongan Karyawan (A/B/C/D): \")\n",
    "    jam_kerja = float(input(\"Masukkan Jam Kerja per Bulan: \"))\n",
    "\n",
    "    if golongan in ['A', 'B', 'C', 'D'] and jam_kerja >= 0:\n",
    "        gaji_total = hitung_gaji_total(golongan, jam_kerja)\n",
    "        print(\"Gaji Pokok Karyawan:\", hitung_gaji_pokok(golongan))\n",
    "        print(\"Gaji Total Karyawan:\", gaji_total)\n",
    "        break\n",
    "    else:\n",
    "        print(\"Input Tidak Valid. Silakan Coba Lagi.\")"
   ]
  },
  {
   "cell_type": "code",
   "execution_count": null,
   "id": "8851ab6a",
   "metadata": {},
   "outputs": [],
   "source": []
  }
 ],
 "metadata": {
  "kernelspec": {
   "display_name": "Python 3 (ipykernel)",
   "language": "python",
   "name": "python3"
  },
  "language_info": {
   "codemirror_mode": {
    "name": "ipython",
    "version": 3
   },
   "file_extension": ".py",
   "mimetype": "text/x-python",
   "name": "python",
   "nbconvert_exporter": "python",
   "pygments_lexer": "ipython3",
   "version": "3.9.12"
  }
 },
 "nbformat": 4,
 "nbformat_minor": 5
}
