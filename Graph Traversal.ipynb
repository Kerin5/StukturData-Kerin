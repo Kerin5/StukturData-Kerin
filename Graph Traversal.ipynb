{
 "cells": [
  {
   "cell_type": "code",
   "execution_count": 1,
   "id": "f5b08b68",
   "metadata": {},
   "outputs": [],
   "source": [
    "class Graph:\n",
    "    def __init__(Self, gdict=None):\n",
    "        if gdict is None:\n",
    "            gdict = {}\n",
    "        self.gdict = gdict\n",
    "        \n",
    "    def addEdge(self, vertex, edge):\n",
    "        self.gdict[vertex].append(edge)\n",
    "        \n",
    "    def bfs(Self, vertex):\n",
    "        visited = [vertex]\n",
    "        queue = [vertex]\n",
    "        while queue:\n",
    "            deVertex = queue.pop(0)\n",
    "            print(deVertex)\n",
    "            for adjacentVertex in self.gdict[deVertex]:\n",
    "                if adjacentVertex not in visited:\n",
    "                    visited.append(adjacentVertex)\n",
    "                    queue.append(adjacentVertex)\n",
    "                    \n",
    "    def dfs(self, vertex):\n",
    "        visited = [vertex]\n",
    "        stack = [vertex]\n",
    "        while stack:\n",
    "            popVertex = stack.pop()\n",
    "            print(popVertex)\n",
    "            for adjacentVertex in self.gdict[popVertex]:\n",
    "                if adjacentVertex not in visited:\n",
    "                    visited.append(adjacentVertex)\n",
    "                    stack.append(adjacentVertex)"
   ]
  },
  {
   "cell_type": "code",
   "execution_count": 4,
   "id": "f70d4801",
   "metadata": {},
   "outputs": [],
   "source": [
    "customDict = {\"a\" : [\"b\",\"c\"],\n",
    "            \"b\" : [\"a\", \"d\",\"e\"],\n",
    "            \"c\" : [\"a\",\"e\"],\n",
    "            \"d\" : [\"b\",\"e\",\"f\"],\n",
    "            \"e\" : [\"d\",\"f\",\"c\"],\n",
    "            \"f\" : [\"d\",\"e\"],\n",
    "             }"
   ]
  },
  {
   "cell_type": "code",
   "execution_count": 5,
   "id": "1f1c6118",
   "metadata": {},
   "outputs": [
    {
     "ename": "NameError",
     "evalue": "name 'self' is not defined",
     "output_type": "error",
     "traceback": [
      "\u001b[1;31m---------------------------------------------------------------------------\u001b[0m",
      "\u001b[1;31mNameError\u001b[0m                                 Traceback (most recent call last)",
      "Input \u001b[1;32mIn [5]\u001b[0m, in \u001b[0;36m<cell line: 1>\u001b[1;34m()\u001b[0m\n\u001b[1;32m----> 1\u001b[0m g\u001b[38;5;241m=\u001b[39m \u001b[43mGraph\u001b[49m\u001b[43m(\u001b[49m\u001b[43mcustomDict\u001b[49m\u001b[43m)\u001b[49m\n",
      "Input \u001b[1;32mIn [1]\u001b[0m, in \u001b[0;36mGraph.__init__\u001b[1;34m(Self, gdict)\u001b[0m\n\u001b[0;32m      3\u001b[0m \u001b[38;5;28;01mif\u001b[39;00m gdict \u001b[38;5;129;01mis\u001b[39;00m \u001b[38;5;28;01mNone\u001b[39;00m:\n\u001b[0;32m      4\u001b[0m     gdict \u001b[38;5;241m=\u001b[39m {}\n\u001b[1;32m----> 5\u001b[0m \u001b[38;5;28;43mself\u001b[39;49m\u001b[38;5;241m.\u001b[39mgdict \u001b[38;5;241m=\u001b[39m gdict\n",
      "\u001b[1;31mNameError\u001b[0m: name 'self' is not defined"
     ]
    }
   ],
   "source": [
    "g= Graph(customDict)"
   ]
  },
  {
   "cell_type": "code",
   "execution_count": null,
   "id": "4933e7c0",
   "metadata": {},
   "outputs": [],
   "source": []
  }
 ],
 "metadata": {
  "kernelspec": {
   "display_name": "Python 3 (ipykernel)",
   "language": "python",
   "name": "python3"
  },
  "language_info": {
   "codemirror_mode": {
    "name": "ipython",
    "version": 3
   },
   "file_extension": ".py",
   "mimetype": "text/x-python",
   "name": "python",
   "nbconvert_exporter": "python",
   "pygments_lexer": "ipython3",
   "version": "3.9.12"
  }
 },
 "nbformat": 4,
 "nbformat_minor": 5
}
