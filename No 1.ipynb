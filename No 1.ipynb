{
 "cells": [
  {
   "cell_type": "code",
   "execution_count": 17,
   "id": "ee88bc41",
   "metadata": {},
   "outputs": [
    {
     "name": "stdout",
     "output_type": "stream",
     "text": [
      "Luas Persegi: 81\n",
      "Luas Balok: 268\n",
      "Luas Segitiga: 70.0\n",
      "Luas Persegi Panjang: 28\n",
      "Luas Trapesium: 35.0\n",
      "Luas Lingkaran: 452.3893421169302\n"
     ]
    }
   ],
   "source": [
    "import math\n",
    "\n",
    "class BangunGeometri:\n",
    "    def luas_Persegi(self, Sisi):\n",
    "        return Sisi ** 2     \n",
    "\n",
    "    def luas_Balok(self, Panjang, Lebar, Tinggi):\n",
    "        return 2 * (Panjang * Lebar + Panjang * Tinggi + Lebar * Tinggi)\n",
    "\n",
    "    def luas_Segitiga(self, Alas, Tinggi):\n",
    "        return 0.5 * Alas * Tinggi\n",
    "\n",
    "    def luas_Persegi_Panjang(self, Panjang, Lebar):\n",
    "        return Panjang * Lebar\n",
    "     \n",
    "    def luas_Trapesium(self, Alas, Tinggi, sisi_Miring):\n",
    "        return 0.5 * (Alas + sisi_Miring) * Tinggi \n",
    "    \n",
    "    def luas_Lingkaran(self, Jari_Jari):\n",
    "        return math.pi * jari_jari ** 2\n",
    "\n",
    "bangun = BangunGeometri()\n",
    "\n",
    "Sisi = 9\n",
    "luas_Persegi = bangun.luas_Persegi(Sisi)\n",
    "print(\"Luas Persegi:\", luas_Persegi)\n",
    "\n",
    "Panjang = 10\n",
    "Lebar = 8\n",
    "Tinggi = 3\n",
    "luas_Balok = bangun.luas_Balok(Panjang, Lebar, Tinggi)\n",
    "print(\"Luas Balok:\", luas_Balok)\n",
    "\n",
    "Alas = 14\n",
    "Tinggi = 10\n",
    "luas_Segitiga = bangun.luas_Segitiga(Alas, Tinggi)\n",
    "print(\"Luas Segitiga:\", luas_Segitiga)\n",
    "\n",
    "Panjang = 7\n",
    "Lebar = 4\n",
    "luas_Persegi_Panjang = bangun.luas_Persegi_Panjang(Panjang, Lebar)\n",
    "print(\"Luas Persegi Panjang:\", luas_Persegi_Panjang)\n",
    "\n",
    "Alas = 11\n",
    "Tinggi = 5\n",
    "sisi_Miring = 3\n",
    "luas_Trapesium = bangun.luas_Trapesium(alas, Tinggi, sisi_Miring)\n",
    "print(\"Luas Trapesium:\", luas_Trapesium)\n",
    "\n",
    "Jari_Jari = 12\n",
    "luas_Lingkaran = bangun.luas_Lingkaran(Jari_Jari)\n",
    "print(\"Luas Lingkaran:\", luas_Lingkaran)"
   ]
  },
  {
   "cell_type": "code",
   "execution_count": null,
   "id": "30e0bbaf",
   "metadata": {},
   "outputs": [],
   "source": []
  }
 ],
 "metadata": {
  "kernelspec": {
   "display_name": "Python 3 (ipykernel)",
   "language": "python",
   "name": "python3"
  },
  "language_info": {
   "codemirror_mode": {
    "name": "ipython",
    "version": 3
   },
   "file_extension": ".py",
   "mimetype": "text/x-python",
   "name": "python",
   "nbconvert_exporter": "python",
   "pygments_lexer": "ipython3",
   "version": "3.9.12"
  }
 },
 "nbformat": 4,
 "nbformat_minor": 5
}
