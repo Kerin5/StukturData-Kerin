{
 "cells": [
  {
   "cell_type": "code",
   "execution_count": 1,
   "id": "01f09b27",
   "metadata": {},
   "outputs": [
    {
     "name": "stdout",
     "output_type": "stream",
     "text": [
      "('a', 'b', 'c', 'd', 'e')\n"
     ]
    }
   ],
   "source": [
    "newTuple = ('a', 'b', 'c', 'd', 'e')\n",
    "newTuple1 = tuple('abcde')\n",
    "print(newTuple)"
   ]
  },
  {
   "cell_type": "code",
   "execution_count": 2,
   "id": "5ad9094a",
   "metadata": {},
   "outputs": [
    {
     "name": "stdout",
     "output_type": "stream",
     "text": [
      "('a', 'b', 'c', 'd', 'e')\n"
     ]
    }
   ],
   "source": [
    "print(newTuple1)"
   ]
  },
  {
   "cell_type": "code",
   "execution_count": 3,
   "id": "2102d467",
   "metadata": {},
   "outputs": [
    {
     "name": "stdout",
     "output_type": "stream",
     "text": [
      "('a', 'c', 'e')\n"
     ]
    }
   ],
   "source": [
    "print(newTuple[-5::2]) "
   ]
  },
  {
   "cell_type": "code",
   "execution_count": 4,
   "id": "e3480dec",
   "metadata": {},
   "outputs": [
    {
     "name": "stdout",
     "output_type": "stream",
     "text": [
      "a\n",
      "b\n",
      "c\n",
      "d\n",
      "e\n"
     ]
    }
   ],
   "source": [
    "for i in newTuple:\n",
    "    print(i)"
   ]
  },
  {
   "cell_type": "code",
   "execution_count": 5,
   "id": "110b306d",
   "metadata": {},
   "outputs": [
    {
     "name": "stdout",
     "output_type": "stream",
     "text": [
      "a\n",
      "b\n",
      "c\n",
      "d\n",
      "e\n"
     ]
    }
   ],
   "source": [
    "for index in range(len(newTuple)):\n",
    "    print(newTuple[index])"
   ]
  },
  {
   "cell_type": "code",
   "execution_count": 6,
   "id": "32b40bc2",
   "metadata": {},
   "outputs": [
    {
     "name": "stdout",
     "output_type": "stream",
     "text": [
      "True\n"
     ]
    }
   ],
   "source": [
    "print('a' in newTuple)"
   ]
  },
  {
   "cell_type": "code",
   "execution_count": 7,
   "id": "7263206e",
   "metadata": {},
   "outputs": [
    {
     "name": "stdout",
     "output_type": "stream",
     "text": [
      "0\n"
     ]
    }
   ],
   "source": [
    "def searchInTuple(pTuple, element):\n",
    "    for i in pTuple:\n",
    "        if i == element:\n",
    "            return pTuple.index(i)\n",
    "    return 'The element does not exist'\n",
    "\n",
    "print(searchInTuple(newTuple, 'a'))"
   ]
  },
  {
   "cell_type": "code",
   "execution_count": 8,
   "id": "3e7fa260",
   "metadata": {},
   "outputs": [
    {
     "name": "stdout",
     "output_type": "stream",
     "text": [
      "(1, 4, 3, 2, 5, 1, 2, 6, 9, 8, 7)\n"
     ]
    }
   ],
   "source": [
    "myTuple = (1,4,3,2,5)\n",
    "myTuple1 = (1,2,6,9,8,7)\n",
    "\n",
    "print(myTuple + myTuple1) "
   ]
  },
  {
   "cell_type": "code",
   "execution_count": 9,
   "id": "1e2470f0",
   "metadata": {},
   "outputs": [
    {
     "name": "stdout",
     "output_type": "stream",
     "text": [
      "(1, 4, 3, 2, 5, 1, 4, 3, 2, 5, 1, 4, 3, 2, 5, 1, 4, 3, 2, 5)\n"
     ]
    }
   ],
   "source": [
    "print(myTuple * 4)"
   ]
  },
  {
   "cell_type": "code",
   "execution_count": 10,
   "id": "5ab9ebb1",
   "metadata": {},
   "outputs": [
    {
     "name": "stdout",
     "output_type": "stream",
     "text": [
      "True\n"
     ]
    }
   ],
   "source": [
    "print(2 in myTuple1)"
   ]
  },
  {
   "cell_type": "code",
   "execution_count": 11,
   "id": "5e48307c",
   "metadata": {},
   "outputs": [
    {
     "data": {
      "text/plain": [
       "1"
      ]
     },
     "execution_count": 11,
     "metadata": {},
     "output_type": "execute_result"
    }
   ],
   "source": [
    "myTuple1.count(2)"
   ]
  },
  {
   "cell_type": "code",
   "execution_count": 12,
   "id": "4ed0d202",
   "metadata": {},
   "outputs": [
    {
     "data": {
      "text/plain": [
       "1"
      ]
     },
     "execution_count": 12,
     "metadata": {},
     "output_type": "execute_result"
    }
   ],
   "source": [
    "myTuple1.index(2)"
   ]
  },
  {
   "cell_type": "code",
   "execution_count": 13,
   "id": "e318314d",
   "metadata": {},
   "outputs": [
    {
     "name": "stdout",
     "output_type": "stream",
     "text": [
      "10 25 40\n"
     ]
    }
   ],
   "source": [
    "x, y, z = (10,15,20,25,30,35,40)[0::3]\n",
    "print(x,y,z)"
   ]
  },
  {
   "cell_type": "code",
   "execution_count": 14,
   "id": "dd125928",
   "metadata": {},
   "outputs": [
    {
     "name": "stdout",
     "output_type": "stream",
     "text": [
      "3 -6\n"
     ]
    }
   ],
   "source": [
    "x = 3\n",
    "y = -6\n",
    "\n",
    "x, y = (y, x)[::-1]\n",
    "print(x, y)"
   ]
  },
  {
   "cell_type": "code",
   "execution_count": null,
   "id": "b711b24e",
   "metadata": {},
   "outputs": [],
   "source": []
  }
 ],
 "metadata": {
  "kernelspec": {
   "display_name": "Python 3 (ipykernel)",
   "language": "python",
   "name": "python3"
  },
  "language_info": {
   "codemirror_mode": {
    "name": "ipython",
    "version": 3
   },
   "file_extension": ".py",
   "mimetype": "text/x-python",
   "name": "python",
   "nbconvert_exporter": "python",
   "pygments_lexer": "ipython3",
   "version": "3.9.12"
  }
 },
 "nbformat": 4,
 "nbformat_minor": 5
}
