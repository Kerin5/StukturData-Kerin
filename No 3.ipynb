{
 "cells": [
  {
   "cell_type": "code",
   "execution_count": 3,
   "id": "af54b037",
   "metadata": {},
   "outputs": [],
   "source": [
    "class Graph:\n",
    "    def __init__(self, gdict=None):\n",
    "        if gdict is None:\n",
    "            gdict = {}\n",
    "        self.gdict = gdict\n",
    "    \n",
    "    def addEdge(self, vertex, edge):\n",
    "        self.gdict[vertex].append(edge)\n",
    "    \n",
    "    def bfs(self, vertex):\n",
    "        visited = [vertex]\n",
    "        queue = [vertex]\n",
    "        while queue:\n",
    "            deVertex = queue.pop(0)\n",
    "            print(deVertex)\n",
    "            for adjacentVertex in self.gdict[deVertex]:\n",
    "                if adjacentVertex not in visited:\n",
    "                    visited.append(adjacentVertex)\n",
    "                    queue.append(adjacentVertex)\n",
    "    \n",
    "    def dfs(self, vertex):\n",
    "        visited = [vertex]\n",
    "        path = [vertex]\n",
    "        while path:\n",
    "            popVertex = path.pop()\n",
    "            print(popVertex)\n",
    "            for adjacentVertex in self.gdict[popVertex]:\n",
    "                if adjacentVertex not in visited:\n",
    "                    visited.append(adjacentVertex)\n",
    "                    path.append(adjacentVertex)"
   ]
  },
  {
   "cell_type": "code",
   "execution_count": 4,
   "id": "8334ec04",
   "metadata": {},
   "outputs": [
    {
     "name": "stdout",
     "output_type": "stream",
     "text": [
      "A J\n"
     ]
    }
   ],
   "source": [
    "customDict = {\"A\":[\"C\",\"D\",\"B\"],\n",
    "              \"B\":[\"J\"],\n",
    "              \"C\":[\"G\"],\n",
    "              \"D\":[],\n",
    "              \"E\":[\"F\",\"A\"],\n",
    "              \"F\":[\"I\"],\n",
    "              \"G\":[\"D\",\"H\"],\n",
    "              \"H\":[],\n",
    "              \"I\":[],\n",
    "              \"J\":[],\n",
    "             }\n",
    "\n",
    "g = Graph(customDict)\n",
    "print(\"A\", \"J\")"
   ]
  },
  {
   "cell_type": "code",
   "execution_count": null,
   "id": "293de97d",
   "metadata": {},
   "outputs": [],
   "source": []
  }
 ],
 "metadata": {
  "kernelspec": {
   "display_name": "Python 3 (ipykernel)",
   "language": "python",
   "name": "python3"
  },
  "language_info": {
   "codemirror_mode": {
    "name": "ipython",
    "version": 3
   },
   "file_extension": ".py",
   "mimetype": "text/x-python",
   "name": "python",
   "nbconvert_exporter": "python",
   "pygments_lexer": "ipython3",
   "version": "3.9.12"
  }
 },
 "nbformat": 4,
 "nbformat_minor": 5
}
