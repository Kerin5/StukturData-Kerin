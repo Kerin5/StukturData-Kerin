{
 "cells": [
  {
   "cell_type": "code",
   "execution_count": 4,
   "id": "40a4aae6",
   "metadata": {},
   "outputs": [
    {
     "name": "stdout",
     "output_type": "stream",
     "text": [
      "[1, 3, 5, 7, 9]\n"
     ]
    }
   ],
   "source": [
    "# Q-1. What will be the output of the following code block?\n",
    "\n",
    "a=[1,2,3,4,5,6,7,8,9]\n",
    "print(a[::2])"
   ]
  },
  {
   "cell_type": "code",
   "execution_count": 10,
   "id": "53d87bdd",
   "metadata": {},
   "outputs": [
    {
     "ename": "ValueError",
     "evalue": "attempt to assign sequence of size 6 to extended slice of size 5",
     "output_type": "error",
     "traceback": [
      "\u001b[1;31m---------------------------------------------------------------------------\u001b[0m",
      "\u001b[1;31mValueError\u001b[0m                                Traceback (most recent call last)",
      "Input \u001b[1;32mIn [10]\u001b[0m, in \u001b[0;36m<cell line: 4>\u001b[1;34m()\u001b[0m\n\u001b[0;32m      1\u001b[0m \u001b[38;5;66;03m# Q-2. What will be the output of the following code snippet?\u001b[39;00m\n\u001b[0;32m      3\u001b[0m a\u001b[38;5;241m=\u001b[39m[\u001b[38;5;241m1\u001b[39m,\u001b[38;5;241m2\u001b[39m,\u001b[38;5;241m3\u001b[39m,\u001b[38;5;241m4\u001b[39m,\u001b[38;5;241m5\u001b[39m,\u001b[38;5;241m6\u001b[39m,\u001b[38;5;241m7\u001b[39m,\u001b[38;5;241m8\u001b[39m,\u001b[38;5;241m9\u001b[39m]\n\u001b[1;32m----> 4\u001b[0m a[::\u001b[38;5;241m2\u001b[39m]\u001b[38;5;241m=\u001b[39m\u001b[38;5;241m10\u001b[39m,\u001b[38;5;241m20\u001b[39m,\u001b[38;5;241m30\u001b[39m,\u001b[38;5;241m40\u001b[39m,\u001b[38;5;241m50\u001b[39m,\u001b[38;5;241m60\u001b[39m\n\u001b[0;32m      5\u001b[0m \u001b[38;5;28mprint\u001b[39m(a)\n",
      "\u001b[1;31mValueError\u001b[0m: attempt to assign sequence of size 6 to extended slice of size 5"
     ]
    }
   ],
   "source": [
    "# Q-2. What will be the output of the following code snippet?\n",
    "\n",
    "a=[1,2,3,4,5,6,7,8,9]\n",
    "a[::2]=10,20,30,40,50,60\n",
    "print(a)\n",
    "# A. ValueError: attempt to assign sequence of size 6 to extended slice of size 5\n",
    "# B. [10, 2, 20, 4, 30, 6, 40, 8, 50, 60]\n",
    "# C. [1, 2, 10, 20, 30, 40, 50, 60]\n",
    "# D. [1, 10, 3, 20, 5, 30, 7, 40, 9, 50, 60]"
   ]
  },
  {
   "cell_type": "code",
   "execution_count": 9,
   "id": "7723887a",
   "metadata": {},
   "outputs": [
    {
     "name": "stdout",
     "output_type": "stream",
     "text": [
      "[4, 3, 2]\n"
     ]
    }
   ],
   "source": [
    "# Q-3. What will be the output of the following code snippet?\n",
    "\n",
    "a=[1,2,3,4,5]\n",
    "print(a[3:0:-1])\n",
    "# A. Syntax error\n",
    "# B. [4, 3, 2]\n",
    "# C. [4, 3]\n",
    "# D. [4, 3, 2, 1]"
   ]
  },
  {
   "cell_type": "code",
   "execution_count": 11,
   "id": "66d6fc50",
   "metadata": {},
   "outputs": [
    {
     "name": "stdout",
     "output_type": "stream",
     "text": [
      "3 44\n"
     ]
    }
   ],
   "source": [
    "# Q-4. What will be the output of the following code snippet?\n",
    "\n",
    "def f(value, values):\n",
    "    v = 1\n",
    "    values[0] = 44\n",
    "t = 3\n",
    "v = [1, 2, 3]\n",
    "f(t, v)\n",
    "print(t, v[0])\n",
    "# A. 1 44\n",
    "# B. 3 1\n",
    "# C. 3 44\n",
    "# D. 1 1"
   ]
  },
  {
   "cell_type": "code",
   "execution_count": 14,
   "id": "275b4cda",
   "metadata": {},
   "outputs": [
    {
     "name": "stdout",
     "output_type": "stream",
     "text": [
      "['apple', 'banana', 'papaya', 'cherry']\n"
     ]
    }
   ],
   "source": [
    "# Q-5. What is the correct command to shuffle the following list?\n",
    "\n",
    "fruit=['apple', 'banana', 'papaya', 'cherry']\n",
    "print(fruit)\n",
    "# A. fruit.shuffle()\n",
    "# B. shuffle(fruit)\n",
    "# C. random.shuffle(fruit)\n",
    "# D. random.shuffleList(fruit)"
   ]
  },
  {
   "cell_type": "code",
   "execution_count": 15,
   "id": "ec141d99",
   "metadata": {},
   "outputs": [
    {
     "name": "stdout",
     "output_type": "stream",
     "text": [
      "4\n"
     ]
    }
   ],
   "source": [
    "# Q-6. What will be the output of the following code snippet?\n",
    "\n",
    "data = [[[1, 2], [3, 4]], [[5, 6], [7, 8]]]\n",
    "def fun(m):\n",
    "    v = m[0][0]\n",
    "\n",
    "    for row in m:\n",
    "        for element in row:\n",
    "            if v < element: v = element\n",
    "\n",
    "    return v\n",
    "print(fun(data[0]))\n",
    "# A. 1\n",
    "# B. 2\n",
    "# C. 3 \n",
    "# D. 4\n",
    "# E. 5\n",
    "# F. 6"
   ]
  },
  {
   "cell_type": "code",
   "execution_count": 16,
   "id": "4cdf80db",
   "metadata": {},
   "outputs": [
    {
     "name": "stdout",
     "output_type": "stream",
     "text": [
      "4\n",
      "7\n",
      "11\n",
      "15\n"
     ]
    }
   ],
   "source": [
    "# Q-7. What will be the output of the following code snippet?\n",
    "\n",
    "arr = [[1, 2, 3, 4],\n",
    "       [4, 5, 6, 7],\n",
    "       [8, 9, 10, 11],\n",
    "       [12, 13, 14, 15]]\n",
    "for i in range(0, 4):\n",
    "    print(arr[i].pop())\n",
    "# A. 1 2 3 4\n",
    "# B. 1 4 8 12\n",
    "# C. 4 7 11 15 \n",
    "# D. 12,13,14,15"
   ]
  },
  {
   "cell_type": "code",
   "execution_count": 17,
   "id": "574613d7",
   "metadata": {},
   "outputs": [
    {
     "name": "stdout",
     "output_type": "stream",
     "text": [
      "[1]\n",
      "[1, 2]\n",
      "[1, 2, 3]\n"
     ]
    },
    {
     "data": {
      "text/plain": [
       "[1, 2, 3]"
      ]
     },
     "execution_count": 17,
     "metadata": {},
     "output_type": "execute_result"
    }
   ],
   "source": [
    "# Q-8. What will be the output of the following code snippet?\n",
    "\n",
    "def f(i, values = []):\n",
    "    values.append(i)\n",
    "    print (values)\n",
    "    return values\n",
    "f(1)\n",
    "f(2)\n",
    "f(3)\n",
    "# A. [1] [2] [3]\n",
    "# B. [1, 2, 3]\n",
    "# C. [1] [1, 2] [1, 2, 3]\n",
    "# D. 1 2 3"
   ]
  },
  {
   "cell_type": "code",
   "execution_count": 21,
   "id": "c442c96c",
   "metadata": {},
   "outputs": [
    {
     "name": "stdout",
     "output_type": "stream",
     "text": [
      "2 3 4 5 6 6 "
     ]
    }
   ],
   "source": [
    "# Q-9. What will be the output of the following code snippet?\n",
    "\n",
    "arr = [1, 2, 3, 4, 5, 6]\n",
    "for i in range(1, 6):\n",
    "    arr[i - 1] = arr[i]\n",
    "for i in range(0, 6): \n",
    "    print(arr[i], end = \" \")\n",
    "# A. 1 2 3 4 5 6\n",
    "# B. 2 3 4 5 6 1\n",
    "# C. 1 1 2 3 4 5 \n",
    "# D. 2 3 4 5 6 6"
   ]
  },
  {
   "cell_type": "code",
   "execution_count": 20,
   "id": "e204b793",
   "metadata": {},
   "outputs": [
    {
     "name": "stdout",
     "output_type": "stream",
     "text": [
      "22\n"
     ]
    }
   ],
   "source": [
    "# Q-10. What will be the output of the following code snippet?\n",
    "\n",
    "fruit_list1 = ['Apple', 'Berry', 'Cherry', 'Papaya']\n",
    "fruit_list2 = fruit_list1\n",
    "fruit_list3 = fruit_list1[:]\n",
    "\n",
    "fruit_list2[0] = 'Guava'\n",
    "fruit_list3[1] = 'Kiwi'\n",
    "\n",
    "sum = 0\n",
    "for ls in (fruit_list1, fruit_list2, fruit_list3):\n",
    "    if ls[0] == 'Guava':\n",
    "        sum += 1\n",
    "    if ls[1] == 'Kiwi':\n",
    "        sum += 20\n",
    "\n",
    "print(sum)\n",
    "# A. 22\n",
    "# B. 21\n",
    "# C. 0\n",
    "# D. 43"
   ]
  },
  {
   "cell_type": "code",
   "execution_count": null,
   "id": "c4b44863",
   "metadata": {},
   "outputs": [],
   "source": []
  }
 ],
 "metadata": {
  "kernelspec": {
   "display_name": "Python 3 (ipykernel)",
   "language": "python",
   "name": "python3"
  },
  "language_info": {
   "codemirror_mode": {
    "name": "ipython",
    "version": 3
   },
   "file_extension": ".py",
   "mimetype": "text/x-python",
   "name": "python",
   "nbconvert_exporter": "python",
   "pygments_lexer": "ipython3",
   "version": "3.9.12"
  }
 },
 "nbformat": 4,
 "nbformat_minor": 5
}
