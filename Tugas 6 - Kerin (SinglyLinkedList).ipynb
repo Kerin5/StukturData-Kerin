{
 "cells": [
  {
   "cell_type": "code",
   "execution_count": 1,
   "id": "8493351b",
   "metadata": {},
   "outputs": [],
   "source": [
    "class Node:\n",
    "    def __init__(self, value=None):\n",
    "        self.value = value\n",
    "        self.next = None"
   ]
  },
  {
   "cell_type": "code",
   "execution_count": 2,
   "id": "d69d1b12",
   "metadata": {},
   "outputs": [],
   "source": [
    "class SLinkedList:\n",
    "    def __init__(self):\n",
    "        self.head = None\n",
    "        self.tail = None\n",
    "    def __iter__(self):\n",
    "        node = self.head\n",
    "        while node:\n",
    "            yield node\n",
    "            node = node.next"
   ]
  },
  {
   "cell_type": "code",
   "execution_count": 4,
   "id": "ab3f9678",
   "metadata": {},
   "outputs": [
    {
     "ename": "IndentationError",
     "evalue": "unindent does not match any outer indentation level (<tokenize>, line 28)",
     "output_type": "error",
     "traceback": [
      "\u001b[1;36m  File \u001b[1;32m<tokenize>:28\u001b[1;36m\u001b[0m\n\u001b[1;33m    def insertSLL(self, value, location):\u001b[0m\n\u001b[1;37m    ^\u001b[0m\n\u001b[1;31mIndentationError\u001b[0m\u001b[1;31m:\u001b[0m unindent does not match any outer indentation level\n"
     ]
    }
   ],
   "source": [
    " # insert in Linked List\n",
    "     def insertSLL(self, value, location):\n",
    "         newNode = Node(value)\n",
    "         if self.head is None:\n",
    "             self.head = newNode\n",
    "             self.tail = newNode\n",
    "         else:\n",
    "             if location == 0:\n",
    "                 newNode.next = self.head\n",
    "                 self.head = newNode\n",
    "             elif location == -1:\n",
    "                 newNode.next = None\n",
    "                 self.tail.next = newNode\n",
    "                 self.tail = newNode\n",
    "             else:\n",
    "                 tempNode = self.head\n",
    "                 index = 0\n",
    "                 while index < location - 1:\n",
    "                     if tempNode.next == None:\n",
    "                         break \n",
    "                     tempNode = tempNode.next\n",
    "                     index += 1\n",
    "                 nextNode = tempNode.next\n",
    "                 tempNode.next = newNode\n",
    "                 newNode.next = nextNode\n",
    "                 if tempNode == self.tail:\n",
    "                     self.tail=newNode\n",
    "    def insertSLL(self, value, location):\n",
    "            newNode = Node(value)\n",
    "            if self.head is None:\n",
    "                self.head = newNode\n",
    "                self.tail = newNode\n",
    "            else:\n",
    "                if location == 0:\n",
    "                    newNode.next = self.head\n",
    "                    self.head = newNode\n",
    "                elif location == -1:\n",
    "                    newNode.next = None\n",
    "                    self.tail.next = newNode\n",
    "                    self.tail = newNode\n",
    "                else:\n",
    "                    tempNode = self.head\n",
    "                    index = 0\n",
    "                    while index < location - 1:\n",
    "                        tempNode = tempNode.next\n",
    "                        index += 1\n",
    "                    nextNode = tempNode.next\n",
    "                    tempNode.next = newNode\n",
    "                    newNode.next = nextNode\n",
    "                    if tempNode == self.tail:\n",
    "                        self.tail=newNode"
   ]
  },
  {
   "cell_type": "code",
   "execution_count": 5,
   "id": "2600fa86",
   "metadata": {},
   "outputs": [
    {
     "ename": "IndentationError",
     "evalue": "unexpected indent (3591826115.py, line 2)",
     "output_type": "error",
     "traceback": [
      "\u001b[1;36m  Input \u001b[1;32mIn [5]\u001b[1;36m\u001b[0m\n\u001b[1;33m    def traverseSLL(self):\u001b[0m\n\u001b[1;37m    ^\u001b[0m\n\u001b[1;31mIndentationError\u001b[0m\u001b[1;31m:\u001b[0m unexpected indent\n"
     ]
    }
   ],
   "source": [
    " # Traverse Singly Linked List\n",
    "    def traverseSLL(self):\n",
    "        if self.head is None:\n",
    "            print(\"The Singly Linked List does not exist\")\n",
    "        else:\n",
    "            node = self.head\n",
    "            while node is not None:\n",
    "                print(node.value)\n",
    "                node = node.next"
   ]
  },
  {
   "cell_type": "code",
   "execution_count": 6,
   "id": "aba96ce7",
   "metadata": {},
   "outputs": [
    {
     "ename": "IndentationError",
     "evalue": "unexpected indent (174102655.py, line 2)",
     "output_type": "error",
     "traceback": [
      "\u001b[1;36m  Input \u001b[1;32mIn [6]\u001b[1;36m\u001b[0m\n\u001b[1;33m    def searchSLL(self, nodeValue):\u001b[0m\n\u001b[1;37m    ^\u001b[0m\n\u001b[1;31mIndentationError\u001b[0m\u001b[1;31m:\u001b[0m unexpected indent\n"
     ]
    }
   ],
   "source": [
    " # Search for a node in Singly Linked List\n",
    "    def searchSLL(self, nodeValue):\n",
    "        if self.head is None:\n",
    "           return \"The list does not exist\"\n",
    "        else:\n",
    "            node = self.head\n",
    "            while node is not None:\n",
    "                if node.value == nodeValue:\n",
    "                    return node.value\n",
    "                node = node.next\n",
    "            return \"The value does not exist in this list\""
   ]
  },
  {
   "cell_type": "code",
   "execution_count": 7,
   "id": "6f9ebabd",
   "metadata": {},
   "outputs": [
    {
     "ename": "IndentationError",
     "evalue": "unexpected indent (1271616012.py, line 2)",
     "output_type": "error",
     "traceback": [
      "\u001b[1;36m  Input \u001b[1;32mIn [7]\u001b[1;36m\u001b[0m\n\u001b[1;33m    def deleteNode(self, location):\u001b[0m\n\u001b[1;37m    ^\u001b[0m\n\u001b[1;31mIndentationError\u001b[0m\u001b[1;31m:\u001b[0m unexpected indent\n"
     ]
    }
   ],
   "source": [
    " #  Delete a node from Singly Linked List\n",
    "    def deleteNode(self, location):\n",
    "        if self.head is None:\n",
    "            print(\"The SLL does not exist\")\n",
    "        else:\n",
    "            if location == 0:\n",
    "                if self.head == self.tail:\n",
    "                    self.head = None\n",
    "                    self.tail = None\n",
    "                else:\n",
    "                    self.head = self.head.next\n",
    "            elif location == -1:\n",
    "                if self.head == self.tail:\n",
    "                    self.head = None\n",
    "                    self.tail = None\n",
    "                else:\n",
    "                    node = self.head\n",
    "                    while node is not None:\n",
    "                        if node.next == self.tail:\n",
    "                            break\n",
    "                        node = node.next\n",
    "                    node.next = None\n",
    "                    self.tail = node\n",
    "            else:\n",
    "                tempNode = self.head\n",
    "                index = 0\n",
    "                while index < location - 1:\n",
    "                    tempNode = tempNode.next\n",
    "                    index += 1\n",
    "                nextNode = tempNode.next\n",
    "                tempNode.next = nextNode.next"
   ]
  },
  {
   "cell_type": "code",
   "execution_count": 8,
   "id": "ec1eb985",
   "metadata": {},
   "outputs": [
    {
     "ename": "IndentationError",
     "evalue": "unexpected indent (858026081.py, line 2)",
     "output_type": "error",
     "traceback": [
      "\u001b[1;36m  Input \u001b[1;32mIn [8]\u001b[1;36m\u001b[0m\n\u001b[1;33m    def deleteEntireSLL(self):\u001b[0m\n\u001b[1;37m    ^\u001b[0m\n\u001b[1;31mIndentationError\u001b[0m\u001b[1;31m:\u001b[0m unexpected indent\n"
     ]
    }
   ],
   "source": [
    " # Delete entire SLL\n",
    "    def deleteEntireSLL(self):\n",
    "        if self.head is None:\n",
    "            print(\"The SLL does not exist\")\n",
    "        else:\n",
    "            self.head = None\n",
    "            self.tail = None\n",
    "\n",
    "\n",
    "singlyLinkedList = SLinkedList()\n",
    "# singlyLinkedList.insertSLL(1, 1)\n",
    "# singlyLinkedList.insertSLL(2, 3)\n",
    "# singlyLinkedList.insertSLL(3, 1)\n",
    "# singlyLinkedList.insertSLL(4, 1)\n",
    "# singlyLinkedList.insertSLL(0, 0)\n",
    "# singlyLinkedList.insertSLL(7, -1)\n",
    "# singlyLinkedList.insertSLL(5, 6)\n",
    "\n",
    "\n",
    "# singlyLinkedList.insertSLL(1,1)\n",
    "# singlyLinkedList.insertSLL(2,5)\n",
    "# singlyLinkedList.insertSLL(3,1)\n",
    "# singlyLinkedList.insertSLL(4,9)\n",
    "# singlyLinkedList.insertSLL(5,-1)\n",
    "singlyLinkedList.insertSLL(1, 1)\n",
    "singlyLinkedList.insertSLL(2, 1)\n",
    "singlyLinkedList.insertSLL(3, 1)\n",
    "singlyLinkedList.insertSLL(4, 1)\n",
    "singlyLinkedList.insertSLL(5,-1)\n",
    "\n",
    "print([node.value for node in singlyLinkedList]) \n",
    "# singlyLinkedList.deleteEntireSLL()\n",
    "# print([node.value for node in singlyLinkedList]) "
   ]
  },
  {
   "cell_type": "code",
   "execution_count": null,
   "id": "6f9d7cee",
   "metadata": {},
   "outputs": [],
   "source": []
  }
 ],
 "metadata": {
  "kernelspec": {
   "display_name": "Python 3 (ipykernel)",
   "language": "python",
   "name": "python3"
  },
  "language_info": {
   "codemirror_mode": {
    "name": "ipython",
    "version": 3
   },
   "file_extension": ".py",
   "mimetype": "text/x-python",
   "name": "python",
   "nbconvert_exporter": "python",
   "pygments_lexer": "ipython3",
   "version": "3.9.12"
  }
 },
 "nbformat": 4,
 "nbformat_minor": 5
}
