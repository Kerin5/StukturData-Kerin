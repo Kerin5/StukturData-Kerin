{
 "cells": [
  {
   "cell_type": "code",
   "execution_count": 35,
   "id": "c5bf69e8",
   "metadata": {},
   "outputs": [],
   "source": [
    "class Graph:\n",
    "    def __init__(self):\n",
    "        self.adjacency_list = {}\n",
    "        \n",
    "    def add_vertex(self, vertex):\n",
    "        if vertex not in self.adjacency_list.keys():\n",
    "            self.adjacency_list[vertex] = []\n",
    "            return True\n",
    "        return False\n",
    "    \n",
    "    def print_graph(self):\n",
    "        for vertex in self.adjacency_list:\n",
    "            print(vertex, \":\",self.adjacency_list[vertex])\n",
    "            \n",
    "    def add_edge(self, vertex1, vertex2):\n",
    "        if vertex1 in self.adjacency_list.keys() and vertex2 in self.adjacency_list.keys():\n",
    "            self.adjacency_list[vertex1].append(vertex2)\n",
    "            self.adjacency_list[vertex2].append(vertex1)\n",
    "            return True\n",
    "        return False\n",
    "    \n",
    "    def remove_edge(self, vertex1, vertex2):\n",
    "        if vertex1 in self.adjacency_list.keys() and vertex2 in self.adjacency_list.keys():\n",
    "                try:\n",
    "                    self.adjacency_list[vertex1].remove(vertex2)\n",
    "                    self.adjacency_list[vertex2].remove(vertex1)\n",
    "                except ValueError:\n",
    "                    pass\n",
    "                return True\n",
    "        return False\n",
    "        \n",
    "    def remove_vertex(self, vertex):\n",
    "        if vertex in self.adjacency_list.keys():\n",
    "            for other_vertex in self.adjacency_list[vertex]:\n",
    "                self.adjacency_list[other_vertex].remove(vertex)\n",
    "            del self.adjacency_list[vertex]\n",
    "            return True\n",
    "        return False "
   ]
  },
  {
   "cell_type": "code",
   "execution_count": 36,
   "id": "fff46d71",
   "metadata": {},
   "outputs": [],
   "source": [
    "my_graph = Graph()"
   ]
  },
  {
   "cell_type": "code",
   "execution_count": 37,
   "id": "6471877e",
   "metadata": {},
   "outputs": [
    {
     "data": {
      "text/plain": [
       "True"
      ]
     },
     "execution_count": 37,
     "metadata": {},
     "output_type": "execute_result"
    }
   ],
   "source": [
    "my_graph.add_vertex(\"A\")\n",
    "my_graph.add_vertex(\"B\")\n",
    "my_graph.add_vertex(\"C\")\n",
    "my_graph.add_vertex(\"D\")"
   ]
  },
  {
   "cell_type": "code",
   "execution_count": 38,
   "id": "b41cd7fc",
   "metadata": {},
   "outputs": [
    {
     "data": {
      "text/plain": [
       "True"
      ]
     },
     "execution_count": 38,
     "metadata": {},
     "output_type": "execute_result"
    }
   ],
   "source": [
    "my_graph.add_edge(\"A\",\"B\")\n",
    "my_graph.add_edge(\"A\",\"C\")\n",
    "my_graph.add_edge(\"A\",\"D\")\n",
    "my_graph.add_edge(\"B\",\"C\")\n",
    "my_graph.add_edge(\"C\",\"D\")"
   ]
  },
  {
   "cell_type": "code",
   "execution_count": 39,
   "id": "65f66202",
   "metadata": {},
   "outputs": [
    {
     "name": "stdout",
     "output_type": "stream",
     "text": [
      "A : ['B', 'C', 'D']\n",
      "B : ['A', 'C']\n",
      "C : ['A', 'B', 'D']\n",
      "D : ['A', 'C']\n"
     ]
    }
   ],
   "source": [
    "my_graph.print_graph()"
   ]
  },
  {
   "cell_type": "code",
   "execution_count": 40,
   "id": "4798fad3",
   "metadata": {},
   "outputs": [
    {
     "name": "stdout",
     "output_type": "stream",
     "text": [
      "After remove..\n"
     ]
    }
   ],
   "source": [
    "my_graph.remove_vertex(\"A\")\n",
    "print(\"After remove..\")"
   ]
  },
  {
   "cell_type": "code",
   "execution_count": 41,
   "id": "d09803e7",
   "metadata": {},
   "outputs": [
    {
     "name": "stdout",
     "output_type": "stream",
     "text": [
      "B : ['C']\n",
      "C : ['B', 'D']\n",
      "D : ['C']\n"
     ]
    }
   ],
   "source": [
    "my_graph.print_graph()"
   ]
  }
 ],
 "metadata": {
  "kernelspec": {
   "display_name": "Python 3 (ipykernel)",
   "language": "python",
   "name": "python3"
  },
  "language_info": {
   "codemirror_mode": {
    "name": "ipython",
    "version": 3
   },
   "file_extension": ".py",
   "mimetype": "text/x-python",
   "name": "python",
   "nbconvert_exporter": "python",
   "pygments_lexer": "ipython3",
   "version": "3.9.12"
  }
 },
 "nbformat": 4,
 "nbformat_minor": 5
}
