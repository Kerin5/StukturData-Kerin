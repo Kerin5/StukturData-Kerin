{
 "cells": [
  {
   "cell_type": "code",
   "execution_count": 1,
   "id": "9e977c74",
   "metadata": {},
   "outputs": [
    {
     "name": "stdout",
     "output_type": "stream",
     "text": [
      "1\n"
     ]
    }
   ],
   "source": [
    "# Q-1. What will be the output of the following code snippet?\n",
    "\n",
    "a = {(1,2):1,(2,3):2}\n",
    "print(a[1,2])\n",
    "# A. Key Error\n",
    "# B.  1\n",
    "# C. {(2,3):2}\n",
    "# D. {(1,2):1}\n"
   ]
  },
  {
   "cell_type": "code",
   "execution_count": 2,
   "id": "0573a926",
   "metadata": {},
   "outputs": [
    {
     "ename": "KeyError",
     "evalue": "('a', 'b')",
     "output_type": "error",
     "traceback": [
      "\u001b[1;31m---------------------------------------------------------------------------\u001b[0m",
      "\u001b[1;31mKeyError\u001b[0m                                  Traceback (most recent call last)",
      "Input \u001b[1;32mIn [2]\u001b[0m, in \u001b[0;36m<cell line: 4>\u001b[1;34m()\u001b[0m\n\u001b[0;32m      1\u001b[0m \u001b[38;5;66;03m# Q-2. What will be the output of the following code snippet?\u001b[39;00m\n\u001b[0;32m      3\u001b[0m a \u001b[38;5;241m=\u001b[39m {\u001b[38;5;124m'\u001b[39m\u001b[38;5;124ma\u001b[39m\u001b[38;5;124m'\u001b[39m:\u001b[38;5;241m1\u001b[39m,\u001b[38;5;124m'\u001b[39m\u001b[38;5;124mb\u001b[39m\u001b[38;5;124m'\u001b[39m:\u001b[38;5;241m2\u001b[39m,\u001b[38;5;124m'\u001b[39m\u001b[38;5;124mc\u001b[39m\u001b[38;5;124m'\u001b[39m:\u001b[38;5;241m3\u001b[39m}\n\u001b[1;32m----> 4\u001b[0m \u001b[38;5;28mprint\u001b[39m (\u001b[43ma\u001b[49m\u001b[43m[\u001b[49m\u001b[38;5;124;43m'\u001b[39;49m\u001b[38;5;124;43ma\u001b[39;49m\u001b[38;5;124;43m'\u001b[39;49m\u001b[43m,\u001b[49m\u001b[38;5;124;43m'\u001b[39;49m\u001b[38;5;124;43mb\u001b[39;49m\u001b[38;5;124;43m'\u001b[39;49m\u001b[43m]\u001b[49m)\n",
      "\u001b[1;31mKeyError\u001b[0m: ('a', 'b')"
     ]
    }
   ],
   "source": [
    "# Q-2. What will be the output of the following code snippet?\n",
    "\n",
    "a = {'a':1,'b':2,'c':3}\n",
    "print (a['a','b'])\n",
    "# A. Key Error\n",
    "# B. [1,2]\n",
    "# C. {‘a’:1,’b’:2}\n",
    "# D. (1,2)"
   ]
  },
  {
   "cell_type": "code",
   "execution_count": 3,
   "id": "c63976ca",
   "metadata": {},
   "outputs": [
    {
     "name": "stdout",
     "output_type": "stream",
     "text": [
      "3\n"
     ]
    }
   ],
   "source": [
    "# Q-3. What will be the output of the following code block?\n",
    "\n",
    "fruit = {}\n",
    "\n",
    "def addone(index):\n",
    "    if index in fruit:\n",
    "        fruit[index] += 1\n",
    "    else:\n",
    "        fruit[index] = 1\n",
    "        \n",
    "addone('Apple')\n",
    "addone('Banana')\n",
    "addone('apple')\n",
    "print (len(fruit))\n",
    "# A. 1 \n",
    "# B. 2\n",
    "# C. 3 \n",
    "# D. 4"
   ]
  },
  {
   "cell_type": "code",
   "execution_count": 4,
   "id": "8cb468e7",
   "metadata": {},
   "outputs": [
    {
     "name": "stdout",
     "output_type": "stream",
     "text": [
      "4\n"
     ]
    }
   ],
   "source": [
    "# Q-4. What will be the output of the following code block?\n",
    "\n",
    "arr = {}\n",
    "arr[1] = 1\n",
    "arr['1'] = 2\n",
    "arr[1] += 1\n",
    "\n",
    "sum = 0\n",
    "for k in arr:\n",
    "    sum += arr[k]\n",
    "\n",
    "print(sum)\n",
    "# A. 1 \n",
    "# B. 2\n",
    "# C. 3 \n",
    "# D. 4"
   ]
  },
  {
   "cell_type": "code",
   "execution_count": 5,
   "id": "9bc951c0",
   "metadata": {},
   "outputs": [
    {
     "name": "stdout",
     "output_type": "stream",
     "text": [
      "6\n"
     ]
    }
   ],
   "source": [
    "# Q-5. What will be the output of the following code snippet?\n",
    "\n",
    "my_dict = {}\n",
    "my_dict[1] = 1\n",
    "my_dict['1'] = 2\n",
    "my_dict[1.0] = 4\n",
    "\n",
    "sum = 0\n",
    "for k in my_dict:\n",
    "    sum += my_dict[k]\n",
    "    \n",
    "print (sum)\n",
    "# A. 7\n",
    "# B. Syntax error\n",
    "# C. 3\n",
    "# D. 6"
   ]
  },
  {
   "cell_type": "code",
   "execution_count": 6,
   "id": "fc9fce38",
   "metadata": {},
   "outputs": [
    {
     "name": "stdout",
     "output_type": "stream",
     "text": [
      "30\n",
      "{(1, 2, 4): 8, (4, 2, 1): 10, (1, 2): 12}\n"
     ]
    }
   ],
   "source": [
    "# Q-6. What will be the output of the following code snippet?\n",
    "\n",
    "my_dict = {}\n",
    "my_dict[(1,2,4)] = 8\n",
    "my_dict[(4,2,1)] = 10\n",
    "my_dict[(1,2)] = 12\n",
    "\n",
    "sum = 0\n",
    "for k in my_dict:\n",
    "    sum += my_dict[k]\n",
    "\n",
    "print (sum)\n",
    "print(my_dict)\n",
    "# A. Syntax error\n",
    "# B. 30   \n",
    "#     {(1, 2, 4): 8, (4, 2, 1): 10, (1, 2): 12}\n",
    "# C. 47\n",
    "#     {(1, 2): 12, (4, 2, 1): 10, (1, 2, 4): 8}\n",
    "# D. 30\n",
    "#     {[1, 2]: 12, [4, 2, 1]: 10, [1, 2, 4]: 8}"
   ]
  },
  {
   "cell_type": "code",
   "execution_count": 8,
   "id": "d90ea5a7",
   "metadata": {},
   "outputs": [],
   "source": [
    "# Q-7. What will be the output of the following code snippet?\n",
    "\n",
    "box = {}\n",
    "jars = {}\n",
    "crates = {}\n",
    "box['biscuit'] = 1\n",
    "box['cake'] = 3\n",
    "jars['jam'] = 4\n",
    "crates['box'] = box\n",
    "crates['jars'] = jars\n",
    "# print(len(crates[box]))\n",
    "# A. 1\n",
    "# B. 3\n",
    "# C. 4\n",
    "# D. Type Error"
   ]
  },
  {
   "cell_type": "code",
   "execution_count": 9,
   "id": "27320616",
   "metadata": {},
   "outputs": [
    {
     "name": "stdout",
     "output_type": "stream",
     "text": [
      "96\n",
      "98\n",
      "97\n"
     ]
    }
   ],
   "source": [
    "# Q-8. What will be the output of the following code block?\n",
    "\n",
    "dict = {'c': 97, 'a': 96, 'b': 98}\n",
    "\n",
    "for _ in sorted(dict):\n",
    "    print (dict[_])\n",
    "# A. 96 98 97\n",
    "# B. 96 97 98\n",
    "# C. 98 97 96\n",
    "# D. NameError"
   ]
  },
  {
   "cell_type": "code",
   "execution_count": 10,
   "id": "36bcda93",
   "metadata": {},
   "outputs": [
    {
     "name": "stdout",
     "output_type": "stream",
     "text": [
      "False\n"
     ]
    }
   ],
   "source": [
    "# Q-9. What will be the output of the following code snippet?\n",
    "\n",
    "rec = {\"Name\" : \"Python\", \"Age\":\"20\"}\n",
    "r = rec.copy()\n",
    "print(id(r) == id(rec))\n",
    "# A. True\n",
    "# B. False\n",
    "# C. 0\n",
    "# D. 1"
   ]
  },
  {
   "cell_type": "code",
   "execution_count": 11,
   "id": "4e92b648",
   "metadata": {},
   "outputs": [
    {
     "name": "stdout",
     "output_type": "stream",
     "text": [
      "False\n"
     ]
    }
   ],
   "source": [
    "# Q-10. What will be the output of the following code snippet?\n",
    "\n",
    "rec = {\"Name\" : \"Python\", \"Age\":\"20\", \"Addr\" : \"NJ\", \"Country\" : \"USA\"}\n",
    "id1 = id(rec)\n",
    "del rec\n",
    "rec = {\"Name\" : \"Python\", \"Age\":\"20\", \"Addr\" : \"NJ\", \"Country\" : \"USA\"}\n",
    "id2 = id(rec)\n",
    "print(id1 == id2)\n",
    "# A. True\n",
    "# B. False\n",
    "# C. 1\n",
    "# D. Exception"
   ]
  },
  {
   "cell_type": "code",
   "execution_count": null,
   "id": "382945b8",
   "metadata": {},
   "outputs": [],
   "source": []
  }
 ],
 "metadata": {
  "kernelspec": {
   "display_name": "Python 3 (ipykernel)",
   "language": "python",
   "name": "python3"
  },
  "language_info": {
   "codemirror_mode": {
    "name": "ipython",
    "version": 3
   },
   "file_extension": ".py",
   "mimetype": "text/x-python",
   "name": "python",
   "nbconvert_exporter": "python",
   "pygments_lexer": "ipython3",
   "version": "3.9.12"
  }
 },
 "nbformat": 4,
 "nbformat_minor": 5
}
