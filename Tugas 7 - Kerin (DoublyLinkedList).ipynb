{
 "cells": [
  {
   "cell_type": "code",
   "execution_count": 1,
   "id": "8e213b94",
   "metadata": {},
   "outputs": [],
   "source": [
    "class Node:\n",
    "    def __init__(self, value=None):\n",
    "        self.value = value\n",
    "        self.next = None\n",
    "        self.prev = None\n",
    "\n",
    "class DoublyLinkedList:\n",
    "    def __init__(self):\n",
    "        self.head = None\n",
    "        self.tail = None\n",
    "\n",
    "    \n",
    "    def __iter__(self):\n",
    "        node = self.head\n",
    "        while node:\n",
    "            yield node\n",
    "            node = node.next"
   ]
  },
  {
   "cell_type": "code",
   "execution_count": 2,
   "id": "86bd604e",
   "metadata": {},
   "outputs": [
    {
     "ename": "IndentationError",
     "evalue": "unexpected indent (1753885380.py, line 2)",
     "output_type": "error",
     "traceback": [
      "\u001b[1;36m  Input \u001b[1;32mIn [2]\u001b[1;36m\u001b[0m\n\u001b[1;33m    def createDLL(self, nodeValue):\u001b[0m\n\u001b[1;37m    ^\u001b[0m\n\u001b[1;31mIndentationError\u001b[0m\u001b[1;31m:\u001b[0m unexpected indent\n"
     ]
    }
   ],
   "source": [
    " #  Creation of Doubly Linked List\n",
    "    def createDLL(self, nodeValue):\n",
    "        node = Node(nodeValue)\n",
    "        node.prev = None\n",
    "        node.next = None\n",
    "        self.head = node\n",
    "        self.tail = node\n",
    "        return \"The DLL is created Successfully\""
   ]
  },
  {
   "cell_type": "code",
   "execution_count": 3,
   "id": "d949b046",
   "metadata": {},
   "outputs": [
    {
     "ename": "IndentationError",
     "evalue": "unexpected indent (13999609.py, line 2)",
     "output_type": "error",
     "traceback": [
      "\u001b[1;36m  Input \u001b[1;32mIn [3]\u001b[1;36m\u001b[0m\n\u001b[1;33m    def insertNode(self, nodeValue, location):\u001b[0m\n\u001b[1;37m    ^\u001b[0m\n\u001b[1;31mIndentationError\u001b[0m\u001b[1;31m:\u001b[0m unexpected indent\n"
     ]
    }
   ],
   "source": [
    "#  Insertion Method in Doubly Linked List\n",
    "    def insertNode(self, nodeValue, location):\n",
    "        if self.head is None:\n",
    "            print(\"The node cannot be inserted\")\n",
    "        else:\n",
    "            newNode = Node(nodeValue)\n",
    "            if location == 0:\n",
    "                newNode.prev = None\n",
    "                newNode.next = self.head\n",
    "                self.head.prev = newNode\n",
    "                self.head = newNode\n",
    "            elif location == 1:\n",
    "                newNode.next = None\n",
    "                newNode.prev = self.tail\n",
    "                self.tail.next = newNode\n",
    "                self.tail = newNode\n",
    "            else:\n",
    "                tempNode = self.head\n",
    "                index = 0\n",
    "                while index < location - 1:\n",
    "                    tempNode = tempNode.next\n",
    "                    index += 1\n",
    "                newNode.next = tempNode.next\n",
    "                newNode.prev = tempNode\n",
    "                newNode.next.prev = newNode\n",
    "                tempNode.next = newNode"
   ]
  },
  {
   "cell_type": "code",
   "execution_count": 4,
   "id": "f7b187e0",
   "metadata": {},
   "outputs": [
    {
     "ename": "IndentationError",
     "evalue": "unexpected indent (2831924053.py, line 2)",
     "output_type": "error",
     "traceback": [
      "\u001b[1;36m  Input \u001b[1;32mIn [4]\u001b[1;36m\u001b[0m\n\u001b[1;33m    def traverseDLL(self):\u001b[0m\n\u001b[1;37m    ^\u001b[0m\n\u001b[1;31mIndentationError\u001b[0m\u001b[1;31m:\u001b[0m unexpected indent\n"
     ]
    }
   ],
   "source": [
    "#  Traversal Method in Doubly Linked List\n",
    "    def traverseDLL(self):\n",
    "        if self.head is None:\n",
    "            print(\"There is not any element to traverse\")\n",
    "        else:\n",
    "            tempNode = self.head\n",
    "            while tempNode:\n",
    "                print(tempNode.value)\n",
    "                tempNode = tempNode.next"
   ]
  },
  {
   "cell_type": "code",
   "execution_count": 5,
   "id": "0d4fb858",
   "metadata": {},
   "outputs": [
    {
     "ename": "IndentationError",
     "evalue": "unexpected indent (1202126041.py, line 2)",
     "output_type": "error",
     "traceback": [
      "\u001b[1;36m  Input \u001b[1;32mIn [5]\u001b[1;36m\u001b[0m\n\u001b[1;33m    def reverseTraversalDLL(self):\u001b[0m\n\u001b[1;37m    ^\u001b[0m\n\u001b[1;31mIndentationError\u001b[0m\u001b[1;31m:\u001b[0m unexpected indent\n"
     ]
    }
   ],
   "source": [
    " #  Reverse Traversal Method in Doubly Linked List\n",
    "    def reverseTraversalDLL(self):\n",
    "        if self.head is None:\n",
    "            print(\"There is not any element to traverse\")\n",
    "        else:\n",
    "            tempNode = self.tail\n",
    "            while tempNode:\n",
    "                print(tempNode.value)\n",
    "                tempNode = tempNode.prev"
   ]
  },
  {
   "cell_type": "code",
   "execution_count": 6,
   "id": "7deae039",
   "metadata": {},
   "outputs": [
    {
     "ename": "IndentationError",
     "evalue": "unexpected indent (884357036.py, line 2)",
     "output_type": "error",
     "traceback": [
      "\u001b[1;36m  Input \u001b[1;32mIn [6]\u001b[1;36m\u001b[0m\n\u001b[1;33m    def searchDLL(self, nodeValue):\u001b[0m\n\u001b[1;37m    ^\u001b[0m\n\u001b[1;31mIndentationError\u001b[0m\u001b[1;31m:\u001b[0m unexpected indent\n"
     ]
    }
   ],
   "source": [
    " # Search Method in Doubly Linked List\n",
    "    def searchDLL(self, nodeValue):\n",
    "        if self.head is None:\n",
    "            return \"There is not any element in the list\"\n",
    "        else:\n",
    "            tempNode = self.head\n",
    "            while tempNode:\n",
    "                if tempNode.value == nodeValue:\n",
    "                    return tempNode.value\n",
    "                tempNode = tempNode.next\n",
    "            return \"The node does not exist in this list\""
   ]
  },
  {
   "cell_type": "code",
   "execution_count": 7,
   "id": "f7b17ea1",
   "metadata": {},
   "outputs": [
    {
     "ename": "IndentationError",
     "evalue": "unexpected indent (2581904211.py, line 2)",
     "output_type": "error",
     "traceback": [
      "\u001b[1;36m  Input \u001b[1;32mIn [7]\u001b[1;36m\u001b[0m\n\u001b[1;33m    def deleteNode(self,location):\u001b[0m\n\u001b[1;37m    ^\u001b[0m\n\u001b[1;31mIndentationError\u001b[0m\u001b[1;31m:\u001b[0m unexpected indent\n"
     ]
    }
   ],
   "source": [
    "  # Delete a node from Doubly Linked List\n",
    "    def deleteNode(self,location):\n",
    "        if self.head is None:\n",
    "            print(\"There is not any element in DLL\")\n",
    "        else:\n",
    "            if location == 0:\n",
    "                if self.head == self.tail:\n",
    "                    self.head = None\n",
    "                    self.tail = None\n",
    "                else:\n",
    "                    self.head = self.head.next\n",
    "                    self.head.prev = None\n",
    "            elif location == 1:\n",
    "                if self.head == self.tail:\n",
    "                    self.head = None\n",
    "                    self.tail = None\n",
    "                else:\n",
    "                    self.tail = self.tail.prev\n",
    "                    self.tail.next = None\n",
    "            else:\n",
    "                curNode = self.head\n",
    "                index = 0\n",
    "                while index < location - 1:\n",
    "                    curNode = curNode.next\n",
    "                    index += 1\n",
    "                curNode.next = curNode.next.next\n",
    "                curNode.next.prev = curNode\n",
    "            print(\"The node has been successfully deleted\")"
   ]
  },
  {
   "cell_type": "code",
   "execution_count": null,
   "id": "44e6a9fc",
   "metadata": {},
   "outputs": [],
   "source": [
    " # Delete entire Doubly Linked List\n",
    "    def deleteDLL(self):\n",
    "        if self.head is None:\n",
    "            print(\"There is not any node in DLL\")\n",
    "        else:\n",
    "            tempNode = self.head\n",
    "            while tempNode:\n",
    "                tempNode.prev = None\n",
    "                tempNode = tempNode.next\n",
    "            self.head = None\n",
    "            self.tail = None\n",
    "            print(\"The DLL has been successfully deleted\")\n",
    "    \n",
    "\n",
    "\n",
    "doubyLL = DoublyLinkedList()\n",
    "doubyLL.createDLL(5)\n",
    "doubyLL.insertNode(0,0)\n",
    "doubyLL.insertNode(2,1)\n",
    "doubyLL.insertNode(6,2)\n",
    "print([node.value for node in doubyLL]) \n",
    "doubyLL.deleteDLL()\n",
    "print([node.value for node in doubyLL]) "
   ]
  }
 ],
 "metadata": {
  "kernelspec": {
   "display_name": "Python 3 (ipykernel)",
   "language": "python",
   "name": "python3"
  },
  "language_info": {
   "codemirror_mode": {
    "name": "ipython",
    "version": 3
   },
   "file_extension": ".py",
   "mimetype": "text/x-python",
   "name": "python",
   "nbconvert_exporter": "python",
   "pygments_lexer": "ipython3",
   "version": "3.9.12"
  }
 },
 "nbformat": 4,
 "nbformat_minor": 5
}
