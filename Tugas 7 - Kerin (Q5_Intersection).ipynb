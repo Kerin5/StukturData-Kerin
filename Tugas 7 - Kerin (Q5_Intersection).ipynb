{
 "cells": [
  {
   "cell_type": "code",
   "execution_count": 1,
   "id": "fe1a4924",
   "metadata": {},
   "outputs": [
    {
     "ename": "ModuleNotFoundError",
     "evalue": "No module named 'LinkedList'",
     "output_type": "error",
     "traceback": [
      "\u001b[1;31m---------------------------------------------------------------------------\u001b[0m",
      "\u001b[1;31mModuleNotFoundError\u001b[0m                       Traceback (most recent call last)",
      "Input \u001b[1;32mIn [1]\u001b[0m, in \u001b[0;36m<cell line: 3>\u001b[1;34m()\u001b[0m\n\u001b[0;32m      1\u001b[0m \u001b[38;5;66;03m# Question 5 - Intersection\u001b[39;00m\n\u001b[1;32m----> 3\u001b[0m \u001b[38;5;28;01mfrom\u001b[39;00m \u001b[38;5;21;01mLinkedList\u001b[39;00m \u001b[38;5;28;01mimport\u001b[39;00m LinkedList, Node\n\u001b[0;32m      5\u001b[0m \u001b[38;5;28;01mdef\u001b[39;00m \u001b[38;5;21mintersection\u001b[39m(llA, llB):\n\u001b[0;32m      6\u001b[0m     \u001b[38;5;28;01mif\u001b[39;00m llA\u001b[38;5;241m.\u001b[39mtail \u001b[38;5;129;01mis\u001b[39;00m \u001b[38;5;129;01mnot\u001b[39;00m llB\u001b[38;5;241m.\u001b[39mtail:\n",
      "\u001b[1;31mModuleNotFoundError\u001b[0m: No module named 'LinkedList'"
     ]
    }
   ],
   "source": [
    "# Question 5 - Intersection\n",
    "\n",
    "from LinkedList import LinkedList, Node\n",
    "\n",
    "def intersection(llA, llB):\n",
    "    if llA.tail is not llB.tail:\n",
    "        return False\n",
    "    \n",
    "    lenA = len(llA)\n",
    "    lenB = len(llB)\n",
    "\n",
    "    shorter = llA if lenA < lenB else llB\n",
    "    longer = llB if lenA < lenB else llA\n",
    "\n",
    "    diff = len(longer) - len(shorter)\n",
    "    longerNode = longer.head\n",
    "    shorterNode = shorter.head\n",
    "\n",
    "    for i in range(diff):\n",
    "        longerNode = longerNode.next\n",
    "    \n",
    "    while shorterNode is not longerNode:\n",
    "        shorterNode = shorterNode.next\n",
    "        longerNode = longerNode.next\n",
    "    \n",
    "    return longerNode\n",
    "\n",
    "\n",
    "# Helper addition method\n",
    "def addSameNode(llA, llB, value):\n",
    "    tempNode = Node(value)\n",
    "    llA.tail.next = tempNode\n",
    "    llA.tail = tempNode\n",
    "    llB.tail.next = tempNode\n",
    "    llB.tail = tempNode\n",
    "\n",
    "llA = LinkedList()\n",
    "llA.generate(3,0, 10)\n",
    "\n",
    "llB = LinkedList()\n",
    "llB.generate(4,0, 10)\n",
    "\n",
    "addSameNode(llA, llB, 11)\n",
    "addSameNode(llA, llB, 14)\n",
    "\n",
    "print(llA)\n",
    "print(llB)\n",
    "\n",
    "print(intersection(llA, llB))\n"
   ]
  },
  {
   "cell_type": "code",
   "execution_count": null,
   "id": "1b769d83",
   "metadata": {},
   "outputs": [],
   "source": []
  }
 ],
 "metadata": {
  "kernelspec": {
   "display_name": "Python 3 (ipykernel)",
   "language": "python",
   "name": "python3"
  },
  "language_info": {
   "codemirror_mode": {
    "name": "ipython",
    "version": 3
   },
   "file_extension": ".py",
   "mimetype": "text/x-python",
   "name": "python",
   "nbconvert_exporter": "python",
   "pygments_lexer": "ipython3",
   "version": "3.9.12"
  }
 },
 "nbformat": 4,
 "nbformat_minor": 5
}
