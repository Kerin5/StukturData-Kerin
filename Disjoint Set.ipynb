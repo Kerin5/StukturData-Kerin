{
 "cells": [
  {
   "cell_type": "code",
   "execution_count": 1,
   "id": "6f33793c",
   "metadata": {},
   "outputs": [],
   "source": [
    "class DisjointSet:\n",
    "    def __init__(self, vertices):\n",
    "        self.vertices = vertices\n",
    "        self.parent = {}\n",
    "        for v in vertices:\n",
    "            self.parent[v] = v\n",
    "        self.rank = dict.fromkeys(vertices, 0)\n",
    "    \n",
    "    def find(self, item):\n",
    "        if self.parent[item] == item:\n",
    "            return item\n",
    "        else:\n",
    "            return self.find(self.parent[item])\n",
    "    \n",
    "    def union(self, x, y):\n",
    "        xroot = self.find(x)\n",
    "        yroot = self.find(y)\n",
    "        if self.rank[xroot] < self.rank[yroot]:\n",
    "            self.parent[xroot] = yroot\n",
    "        elif self.rank[xroot] > self.rank[yroot]:\n",
    "            self.parent[yroot] = xroot\n",
    "        else:\n",
    "            self.parent[yroot] = xroot\n",
    "            self.rank[xroot] += 1"
   ]
  },
  {
   "cell_type": "code",
   "execution_count": null,
   "id": "d243f17f",
   "metadata": {},
   "outputs": [],
   "source": []
  }
 ],
 "metadata": {
  "kernelspec": {
   "display_name": "Python 3 (ipykernel)",
   "language": "python",
   "name": "python3"
  },
  "language_info": {
   "codemirror_mode": {
    "name": "ipython",
    "version": 3
   },
   "file_extension": ".py",
   "mimetype": "text/x-python",
   "name": "python",
   "nbconvert_exporter": "python",
   "pygments_lexer": "ipython3",
   "version": "3.9.12"
  }
 },
 "nbformat": 4,
 "nbformat_minor": 5
}
