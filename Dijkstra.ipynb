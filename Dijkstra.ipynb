{
 "cells": [
  {
   "cell_type": "code",
   "execution_count": 1,
   "id": "29722862",
   "metadata": {},
   "outputs": [],
   "source": [
    "class Edge:\n",
    "    def __init__(self, weight, start_vertex, target_vertex):\n",
    "        self.weight = weight\n",
    "        self.start_vertex = start_vertex\n",
    "        self.target_vertex = target_vertex\n",
    "\n",
    "class Node:\n",
    "    def __init__(self, name):\n",
    "        self.name = name\n",
    "        self.visited = False\n",
    "        # previous node that we come to this node\n",
    "        self.predecessor = None\n",
    "        self.neighbors = []\n",
    "        self.min_distance = float(\"inf\")\n",
    "    \n",
    "    def __lt__(self, other_node):\n",
    "        return self.min_distance < other_node.min_distance\n",
    "    \n",
    "    def add_edge(self, weight, destination_vertex):\n",
    "        edge = Edge(weight, self, destination_vertex)\n",
    "        self.neighbors.append(edge)\n",
    "\n",
    "class Dijkstra:\n",
    "    def __init__(self):\n",
    "        self.heap = []\n",
    "    \n",
    "    def calculate(self, start_vertex):\n",
    "        start_vertex.min_distance = 0\n",
    "        heapq.heappush(self.heap, start_vertex)\n",
    "        \n",
    "        while self.heap:\n",
    "            # pop element with the lowest distance\n",
    "            actual_vertex = heapq.heappop(self.heap)\n",
    "            if actual_vertex.visited:\n",
    "                continue\n",
    "            #  consider the neighbors\n",
    "            for edge in actual_vertex.neighbors:\n",
    "                start = edge.start_vertex\n",
    "                target = edge.target_vertex\n",
    "                new_distance = start.min_distance + edge.weight\n",
    "                if new_distance < target.min_distance:\n",
    "                    target.min_distance = new_distance\n",
    "                    target.predecessor = start\n",
    "                    heapq.heappush(self.heap, target)\n",
    "            actual_vertex.visited = True\n",
    "    \n",
    "    def get_shortest_path(self, vertex):\n",
    "        print(f\"The shortest path to the vertext is: {vertex.min_distance}\")\n",
    "        actual_vertex = vertex\n",
    "        while actual_vertex is not None:\n",
    "            print(actual_vertex.name, end=\" \")\n",
    "            actual_vertex = actual_vertex.predecessor"
   ]
  },
  {
   "cell_type": "code",
   "execution_count": 3,
   "id": "605946f1",
   "metadata": {},
   "outputs": [],
   "source": [
    "nodeA = Node(\"A\")\n",
    "nodeB = Node(\"B\")\n",
    "nodeC = Node(\"C\")\n",
    "nodeD = Node(\"D\")\n",
    "nodeE = Node(\"E\")\n",
    "nodeF = Node(\"F\")\n",
    "nodeG = Node(\"G\")\n",
    "nodeH = Node(\"H\")"
   ]
  },
  {
   "cell_type": "code",
   "execution_count": 4,
   "id": "1a712acc",
   "metadata": {},
   "outputs": [],
   "source": [
    "nodeA.add_edge(6, nodeB)\n",
    "nodeA.add_edge(10, nodeC)\n",
    "nodeA.add_edge(9, nodeD)\n",
    "\n",
    "nodeB.add_edge(5, nodeD)\n",
    "nodeB.add_edge(16, nodeE)\n",
    "nodeB.add_edge(13, nodeF)\n",
    "\n",
    "nodeC.add_edge(6, nodeD)\n",
    "nodeC.add_edge(5, nodeH)\n",
    "nodeC.add_edge(21, nodeG)\n",
    "\n",
    "nodeD.add_edge(8, nodeF)\n",
    "nodeD.add_edge(7, nodeH)\n",
    "\n",
    "nodeE.add_edge(10, nodeG)\n",
    "\n",
    "nodeF.add_edge(4, nodeE)\n",
    "nodeF.add_edge(12, nodeG)\n",
    "\n",
    "nodeH.add_edge(2, nodeF)\n",
    "nodeH.add_edge(14, nodeG)"
   ]
  },
  {
   "cell_type": "code",
   "execution_count": 5,
   "id": "dbb4c7dc",
   "metadata": {},
   "outputs": [
    {
     "ename": "NameError",
     "evalue": "name 'heapq' is not defined",
     "output_type": "error",
     "traceback": [
      "\u001b[1;31m---------------------------------------------------------------------------\u001b[0m",
      "\u001b[1;31mNameError\u001b[0m                                 Traceback (most recent call last)",
      "Input \u001b[1;32mIn [5]\u001b[0m, in \u001b[0;36m<cell line: 2>\u001b[1;34m()\u001b[0m\n\u001b[0;32m      1\u001b[0m algorithm \u001b[38;5;241m=\u001b[39m Dijkstra()\n\u001b[1;32m----> 2\u001b[0m \u001b[43malgorithm\u001b[49m\u001b[38;5;241;43m.\u001b[39;49m\u001b[43mcalculate\u001b[49m\u001b[43m(\u001b[49m\u001b[43mnodeA\u001b[49m\u001b[43m)\u001b[49m\n\u001b[0;32m      3\u001b[0m algorithm\u001b[38;5;241m.\u001b[39mget_shortest_path(nodeG)\n",
      "Input \u001b[1;32mIn [1]\u001b[0m, in \u001b[0;36mDijkstra.calculate\u001b[1;34m(self, start_vertex)\u001b[0m\n\u001b[0;32m     27\u001b[0m \u001b[38;5;28;01mdef\u001b[39;00m \u001b[38;5;21mcalculate\u001b[39m(\u001b[38;5;28mself\u001b[39m, start_vertex):\n\u001b[0;32m     28\u001b[0m     start_vertex\u001b[38;5;241m.\u001b[39mmin_distance \u001b[38;5;241m=\u001b[39m \u001b[38;5;241m0\u001b[39m\n\u001b[1;32m---> 29\u001b[0m     \u001b[43mheapq\u001b[49m\u001b[38;5;241m.\u001b[39mheappush(\u001b[38;5;28mself\u001b[39m\u001b[38;5;241m.\u001b[39mheap, start_vertex)\n\u001b[0;32m     31\u001b[0m     \u001b[38;5;28;01mwhile\u001b[39;00m \u001b[38;5;28mself\u001b[39m\u001b[38;5;241m.\u001b[39mheap:\n\u001b[0;32m     32\u001b[0m         \u001b[38;5;66;03m# pop element with the lowest distance\u001b[39;00m\n\u001b[0;32m     33\u001b[0m         actual_vertex \u001b[38;5;241m=\u001b[39m heapq\u001b[38;5;241m.\u001b[39mheappop(\u001b[38;5;28mself\u001b[39m\u001b[38;5;241m.\u001b[39mheap)\n",
      "\u001b[1;31mNameError\u001b[0m: name 'heapq' is not defined"
     ]
    }
   ],
   "source": [
    "algorithm = Dijkstra()\n",
    "algorithm.calculate(nodeA)\n",
    "algorithm.get_shortest_path(nodeG)"
   ]
  },
  {
   "cell_type": "code",
   "execution_count": null,
   "id": "7888125d",
   "metadata": {},
   "outputs": [],
   "source": []
  }
 ],
 "metadata": {
  "kernelspec": {
   "display_name": "Python 3 (ipykernel)",
   "language": "python",
   "name": "python3"
  },
  "language_info": {
   "codemirror_mode": {
    "name": "ipython",
    "version": 3
   },
   "file_extension": ".py",
   "mimetype": "text/x-python",
   "name": "python",
   "nbconvert_exporter": "python",
   "pygments_lexer": "ipython3",
   "version": "3.9.12"
  }
 },
 "nbformat": 4,
 "nbformat_minor": 5
}
