{
 "cells": [
  {
   "cell_type": "code",
   "execution_count": 1,
   "id": "b4b4f917",
   "metadata": {},
   "outputs": [],
   "source": [
    "from collections import defaultdict"
   ]
  },
  {
   "cell_type": "code",
   "execution_count": 2,
   "id": "d9c4812e",
   "metadata": {},
   "outputs": [],
   "source": [
    "class Graph:\n",
    "    def __init__(self):\n",
    "        self.nodes = set()\n",
    "        self.edges = defaultdict(list)\n",
    "        self.distances = {}\n",
    "    def addNode(self,value):\n",
    "        self.nodes.add(value)\n",
    "        \n",
    "    def addEdge(self, fromNode, toNode, distance):\n",
    "        self.edges[fromNode].append(toNode)\n",
    "        self.distances[(fromNode, toNode)] = distance"
   ]
  },
  {
   "cell_type": "code",
   "execution_count": 3,
   "id": "21281abc",
   "metadata": {},
   "outputs": [],
   "source": [
    "def dijkstra(graph, initial):\n",
    "    visited = {initial : 0}\n",
    "    path = defaultdict(list)\n",
    "    \n",
    "    nodes = set(graph.nodes)\n",
    "    \n",
    "    while nodes:\n",
    "        minNode = None\n",
    "        for node in nodes:\n",
    "            if node in visited:\n",
    "                if minNode is None:\n",
    "                    minNode = node\n",
    "                elif visited[node] < visited[minNode]:\n",
    "                    minNode = node\n",
    "        if minNode is None:\n",
    "            break\n",
    "            \n",
    "        nodes.remove(minNode)\n",
    "        \n",
    "        for edge in graph.edges[minNode]:\n",
    "            weight = currentWeight + graph.distances[(minNode, edge)]\n",
    "            if edge not in visited or weight < visited[edge]:\n",
    "                visited[edge] = weight\n",
    "                path[edge].append(minNode)\n",
    "                \n",
    "    return visited, path"
   ]
  },
  {
   "cell_type": "code",
   "execution_count": 6,
   "id": "00f32826",
   "metadata": {},
   "outputs": [],
   "source": [
    "customGraph = Graph()\n",
    "customGraph.addNode(\"A\")\n",
    "customGraph.addNode(\"B\")\n",
    "customGraph.addNode(\"C\")\n",
    "customGraph.addNode(\"D\")\n",
    "customGraph.addNode(\"E\")\n",
    "customGraph.addNode(\"F\")\n",
    "customGraph.addNode(\"G\")\n",
    "customGraph.addEdge(\"A\", \"B\", 2)\n",
    "customGraph.addEdge(\"A\", \"C\", 5)\n",
    "customGraph.addEdge(\"B\", \"C\", 6)\n",
    "customGraph.addEdge(\"B\", \"D\", 1)\n",
    "customGraph.addEdge(\"B\", \"E\", 3)\n",
    "customGraph.addEdge(\"C\", \"F\", 8)\n",
    "customGraph.addEdge(\"D\", \"E\", 4)\n",
    "customGraph.addEdge(\"E\", \"G\", 9)\n",
    "customGraph.addEdge(\"F\", \"G\", 7)"
   ]
  },
  {
   "cell_type": "code",
   "execution_count": 7,
   "id": "cda7a3b8",
   "metadata": {},
   "outputs": [
    {
     "name": "stdout",
     "output_type": "stream",
     "text": [
      "({'A': 0, 'B': 2, 'C': 5, 'D': 3, 'E': 5, 'G': 14, 'F': 13}, defaultdict(<class 'list'>, {'B': ['A'], 'C': ['A'], 'D': ['B'], 'E': ['B'], 'G': ['E'], 'F': ['C']}))\n"
     ]
    }
   ],
   "source": [
    "print(dijkstra(customGraph, \"A\"))"
   ]
  },
  {
   "cell_type": "code",
   "execution_count": null,
   "id": "ed21e7f3",
   "metadata": {},
   "outputs": [],
   "source": []
  }
 ],
 "metadata": {
  "kernelspec": {
   "display_name": "Python 3 (ipykernel)",
   "language": "python",
   "name": "python3"
  },
  "language_info": {
   "codemirror_mode": {
    "name": "ipython",
    "version": 3
   },
   "file_extension": ".py",
   "mimetype": "text/x-python",
   "name": "python",
   "nbconvert_exporter": "python",
   "pygments_lexer": "ipython3",
   "version": "3.9.12"
  }
 },
 "nbformat": 4,
 "nbformat_minor": 5
}
