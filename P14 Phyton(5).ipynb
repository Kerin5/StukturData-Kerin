{
 "cells": [
  {
   "cell_type": "code",
   "execution_count": 6,
   "id": "eecbee7a",
   "metadata": {},
   "outputs": [],
   "source": [
    "class Item:\n",
    "    def __init__(self, weight, value):\n",
    "        self.weight = weight\n",
    "        self.value =value\n",
    "        self.ratio = value / weight"
   ]
  },
  {
   "cell_type": "code",
   "execution_count": 7,
   "id": "ad2d4e37",
   "metadata": {},
   "outputs": [],
   "source": [
    "def knapsackMethod(items, capacity):\n",
    "    items.sort(key=lambda x: x.ratio, reverse = True)\n",
    "    usedCapacity = 0\n",
    "    totalValue = 0\n",
    "    for i in items:\n",
    "        if usedCapacity + i.weight <= capacity:\n",
    "            usedCapacity += i.weight\n",
    "            totalValue += i.value\n",
    "        else:\n",
    "            unusedWeight = capacity - usedCapacity\n",
    "            value = i.ratio * unusedWeight\n",
    "            usedCapacity += unusedWeight\n",
    "            totalValue += value\n",
    "        if usedCapacity == capacity:\n",
    "            break\n",
    "    print(\"Total value obtained: \"+str(totalValue))"
   ]
  },
  {
   "cell_type": "code",
   "execution_count": 8,
   "id": "445ec22f",
   "metadata": {},
   "outputs": [],
   "source": [
    "item1 = Item(20,100)\n",
    "item2 = Item(30,120)\n",
    "item3 = Item(10,60)\n",
    "cList = [item1, item2, item3]"
   ]
  },
  {
   "cell_type": "code",
   "execution_count": 9,
   "id": "54255479",
   "metadata": {},
   "outputs": [
    {
     "name": "stdout",
     "output_type": "stream",
     "text": [
      "Total value obtained: 240.0\n"
     ]
    }
   ],
   "source": [
    "knapsackMethod(cList, 50)"
   ]
  },
  {
   "cell_type": "code",
   "execution_count": null,
   "id": "609175b8",
   "metadata": {},
   "outputs": [],
   "source": []
  }
 ],
 "metadata": {
  "kernelspec": {
   "display_name": "Python 3 (ipykernel)",
   "language": "python",
   "name": "python3"
  },
  "language_info": {
   "codemirror_mode": {
    "name": "ipython",
    "version": 3
   },
   "file_extension": ".py",
   "mimetype": "text/x-python",
   "name": "python",
   "nbconvert_exporter": "python",
   "pygments_lexer": "ipython3",
   "version": "3.9.12"
  }
 },
 "nbformat": 4,
 "nbformat_minor": 5
}
