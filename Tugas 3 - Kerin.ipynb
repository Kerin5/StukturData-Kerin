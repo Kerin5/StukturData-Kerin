{
 "cells": [
  {
   "cell_type": "code",
   "execution_count": 3,
   "id": "7ff67b57",
   "metadata": {},
   "outputs": [
    {
     "name": "stdout",
     "output_type": "stream",
     "text": [
      "Sum = 10, Product = 24\n"
     ]
    }
   ],
   "source": [
    "#Question1\n",
    "\n",
    "def foo(array):\n",
    "    sum = 0\n",
    "    product = 1\n",
    "    for i in array:\n",
    "        sum += i\n",
    "    for i in array:\n",
    "        product *= i\n",
    "    print(\"Sum = \"+str(sum)+\", Product = \"+str(product))\n",
    "\n",
    "ar1 = [1,2,3,4]\n",
    "foo(ar1)"
   ]
  },
  {
   "cell_type": "code",
   "execution_count": 4,
   "id": "fe4ae5ad",
   "metadata": {},
   "outputs": [],
   "source": [
    "#Question2\n",
    "\n",
    "def printPairs(array):\n",
    "    for i in array:\n",
    "        for j in array:\n",
    "            print(str(i)+\",\"+str(j))"
   ]
  },
  {
   "cell_type": "code",
   "execution_count": 5,
   "id": "587b49de",
   "metadata": {},
   "outputs": [],
   "source": [
    "#Question3\n",
    "\n",
    "def printUnorderedPairs(array):\n",
    "    for i in range(0,len(array)):\n",
    "        for j in range(i+1,len(array)):\n",
    "            print(array[i] + \",\" + array[j])"
   ]
  },
  {
   "cell_type": "code",
   "execution_count": 6,
   "id": "bb021ddd",
   "metadata": {},
   "outputs": [],
   "source": [
    "#Question4\n",
    "\n",
    "def printUnorderedPairs(arrayA, arrayB):\n",
    "    for i in range(len(arrayA)):\n",
    "        for j in range(len(arrayB)):\n",
    "            if arrayA[i] < arrayB[j]:\n",
    "                print(str(arrayA[i]) + \",\" + str(arrayB[j]))\n",
    "\n",
    "arrayA = [1,2,3,4,5]\n",
    "arrayB = [2,6,7,8]"
   ]
  },
  {
   "cell_type": "code",
   "execution_count": 9,
   "id": "d37d6fd3",
   "metadata": {},
   "outputs": [],
   "source": [
    "#Question5\n",
    "\n",
    "def printUnorderedPairs(arrayA, arrayB):\n",
    "    for i in range(len(arrayA)):\n",
    "        for j in range(len(arrayB)):\n",
    "            for k in range(0,100000):\n",
    "                print(str(arrayA[i]) + \",\" + str(arrayB[j]))"
   ]
  },
  {
   "cell_type": "code",
   "execution_count": 10,
   "id": "e640e359",
   "metadata": {},
   "outputs": [
    {
     "name": "stdout",
     "output_type": "stream",
     "text": [
      "[5, 4, 3, 2, 1]\n"
     ]
    }
   ],
   "source": [
    "#Question6\n",
    "\n",
    "def reverse(array):\n",
    "    for i in range(0,int(len(array)/2)):\n",
    "        other = len(array)-i-1\n",
    "        temp = array[i]\n",
    "        array[i] = array[other]\n",
    "        array[other] = temp\n",
    "    print(array)\n",
    "\n",
    "reverse(arrayA)"
   ]
  },
  {
   "cell_type": "code",
   "execution_count": 11,
   "id": "119ba05d",
   "metadata": {},
   "outputs": [
    {
     "name": "stdout",
     "output_type": "stream",
     "text": [
      "6\n"
     ]
    }
   ],
   "source": [
    "#Question8\n",
    "\n",
    "def factorial(n):\n",
    "    if n < 0:\n",
    "        return -1\n",
    "    elif n == 0:\n",
    "        return 1\n",
    "    else:\n",
    "        return n * factorial(n-1)\n",
    "\n",
    "print(factorial(3))"
   ]
  },
  {
   "cell_type": "code",
   "execution_count": 12,
   "id": "b38a3258",
   "metadata": {},
   "outputs": [
    {
     "name": "stdout",
     "output_type": "stream",
     "text": [
      "0:, 0\n",
      "1:, 1\n",
      "2:, 1\n",
      "3:, 2\n"
     ]
    }
   ],
   "source": [
    "#Question9\n",
    "\n",
    "def allFib(n):\n",
    "    for i in range(n):\n",
    "        print(str(i)+\":, \" + str(fib(i)))\n",
    "\n",
    "def fib(n):\n",
    "    if n <= 0:\n",
    "        return 0\n",
    "    elif n == 1:\n",
    "        return 1\n",
    "    return fib(n-1) + fib(n-2)\n",
    "\n",
    "allFib(4)"
   ]
  },
  {
   "cell_type": "code",
   "execution_count": 13,
   "id": "1281c160",
   "metadata": {},
   "outputs": [
    {
     "name": "stdout",
     "output_type": "stream",
     "text": [
      "1\n",
      "1\n",
      "2\n",
      "2\n",
      "4\n",
      "4\n",
      "8\n",
      "8\n",
      "16\n",
      "16\n",
      "32\n"
     ]
    },
    {
     "data": {
      "text/plain": [
       "32"
      ]
     },
     "execution_count": 13,
     "metadata": {},
     "output_type": "execute_result"
    }
   ],
   "source": [
    "#Question10\n",
    "\n",
    "def powersOf2(n):\n",
    "    # print(\"n:\"+str(n))\n",
    "    if n < 1:\n",
    "        return 0\n",
    "    elif n == 1:\n",
    "        print(1)\n",
    "        return 1\n",
    "    else:\n",
    "        prev = powersOf2(int(n/2))\n",
    "        # print(\"prev:\"+str(prev))\n",
    "        print(prev)\n",
    "        curr = prev*2\n",
    "        print(curr)\n",
    "        return curr\n",
    "\n",
    "powersOf2(50)"
   ]
  },
  {
   "cell_type": "code",
   "execution_count": null,
   "id": "279b9a08",
   "metadata": {},
   "outputs": [],
   "source": []
  }
 ],
 "metadata": {
  "kernelspec": {
   "display_name": "Python 3 (ipykernel)",
   "language": "python",
   "name": "python3"
  },
  "language_info": {
   "codemirror_mode": {
    "name": "ipython",
    "version": 3
   },
   "file_extension": ".py",
   "mimetype": "text/x-python",
   "name": "python",
   "nbconvert_exporter": "python",
   "pygments_lexer": "ipython3",
   "version": "3.9.12"
  }
 },
 "nbformat": 4,
 "nbformat_minor": 5
}
