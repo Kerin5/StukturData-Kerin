{
 "cells": [
  {
   "cell_type": "code",
   "execution_count": 1,
   "id": "a783ff03",
   "metadata": {},
   "outputs": [],
   "source": [
    "def printSolution(nV, distance):\n",
    "    for i in range(nV):\n",
    "        for j in range(nV):\n",
    "            if(distance[i][j] == INF):\n",
    "                print(\"INF\", end=\" \")\n",
    "            else:\n",
    "                print(distance[i][j], end=\"  \")\n",
    "        print(\" \")\n",
    "\n",
    "\n",
    "def floydWarshall(nV, G):\n",
    "    distance = G\n",
    "    for k in range(nV):\n",
    "        for i in range(nV):\n",
    "            for j in range(nV):\n",
    "                distance[i][j] = min(distance[i][j], distance[i][k]+distance[k][j])\n",
    "    \n",
    "    printSolution(nV, distance)"
   ]
  },
  {
   "cell_type": "code",
   "execution_count": 2,
   "id": "04d40cf8",
   "metadata": {},
   "outputs": [
    {
     "ename": "NameError",
     "evalue": "name 'INF' is not defined",
     "output_type": "error",
     "traceback": [
      "\u001b[1;31m---------------------------------------------------------------------------\u001b[0m",
      "\u001b[1;31mNameError\u001b[0m                                 Traceback (most recent call last)",
      "Input \u001b[1;32mIn [2]\u001b[0m, in \u001b[0;36m<cell line: 1>\u001b[1;34m()\u001b[0m\n\u001b[1;32m----> 1\u001b[0m G \u001b[38;5;241m=\u001b[39m [[\u001b[38;5;241m0\u001b[39m, \u001b[38;5;241m8\u001b[39m, \u001b[43mINF\u001b[49m,\u001b[38;5;241m1\u001b[39m],\n\u001b[0;32m      2\u001b[0m     [INF, \u001b[38;5;241m0\u001b[39m, \u001b[38;5;241m1\u001b[39m,INF],\n\u001b[0;32m      3\u001b[0m     [\u001b[38;5;241m4\u001b[39m, INF, \u001b[38;5;241m0\u001b[39m,INF],\n\u001b[0;32m      4\u001b[0m     [INF, \u001b[38;5;241m2\u001b[39m, \u001b[38;5;241m9\u001b[39m,\u001b[38;5;241m1\u001b[39m]\n\u001b[0;32m      5\u001b[0m     ]\n\u001b[0;32m      7\u001b[0m floydWarshall(\u001b[38;5;241m4\u001b[39m, G)\n",
      "\u001b[1;31mNameError\u001b[0m: name 'INF' is not defined"
     ]
    }
   ],
   "source": [
    "G = [[0, 8, INF,1],\n",
    "    [INF, 0, 1,INF],\n",
    "    [4, INF, 0,INF],\n",
    "    [INF, 2, 9,1]\n",
    "    ]\n",
    "\n",
    "floydWarshall(4, G)"
   ]
  },
  {
   "cell_type": "code",
   "execution_count": null,
   "id": "f051bd1d",
   "metadata": {},
   "outputs": [],
   "source": []
  }
 ],
 "metadata": {
  "kernelspec": {
   "display_name": "Python 3 (ipykernel)",
   "language": "python",
   "name": "python3"
  },
  "language_info": {
   "codemirror_mode": {
    "name": "ipython",
    "version": 3
   },
   "file_extension": ".py",
   "mimetype": "text/x-python",
   "name": "python",
   "nbconvert_exporter": "python",
   "pygments_lexer": "ipython3",
   "version": "3.9.12"
  }
 },
 "nbformat": 4,
 "nbformat_minor": 5
}
